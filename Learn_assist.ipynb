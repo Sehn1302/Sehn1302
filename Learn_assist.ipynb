{
  "nbformat": 4,
  "nbformat_minor": 0,
  "metadata": {
    "colab": {
      "provenance": [],
      "authorship_tag": "ABX9TyOdUK+weWbSJESTVs/ggN3Q",
      "include_colab_link": true
    },
    "kernelspec": {
      "name": "python3",
      "display_name": "Python 3"
    },
    "language_info": {
      "name": "python"
    }
  },
  "cells": [
    {
      "cell_type": "markdown",
      "metadata": {
        "id": "view-in-github",
        "colab_type": "text"
      },
      "source": [
        "<a href=\"https://colab.research.google.com/github/Sehn1302/Sehn1302/blob/main/Learn_assist.ipynb\" target=\"_parent\"><img src=\"https://colab.research.google.com/assets/colab-badge.svg\" alt=\"Open In Colab\"/></a>"
      ]
    },
    {
      "cell_type": "code",
      "source": [
        "!pip install deepface"
      ],
      "metadata": {
        "colab": {
          "base_uri": "https://localhost:8080/"
        },
        "id": "s11aoHeKlkL_",
        "outputId": "20688803-0027-4f17-a7e9-19b4e0680af7"
      },
      "execution_count": 3,
      "outputs": [
        {
          "output_type": "stream",
          "name": "stdout",
          "text": [
            "Requirement already satisfied: deepface in /usr/local/lib/python3.10/dist-packages (0.0.93)\n",
            "Requirement already satisfied: requests>=2.27.1 in /usr/local/lib/python3.10/dist-packages (from deepface) (2.32.3)\n",
            "Requirement already satisfied: numpy>=1.14.0 in /usr/local/lib/python3.10/dist-packages (from deepface) (1.26.4)\n",
            "Requirement already satisfied: pandas>=0.23.4 in /usr/local/lib/python3.10/dist-packages (from deepface) (2.2.2)\n",
            "Requirement already satisfied: gdown>=3.10.1 in /usr/local/lib/python3.10/dist-packages (from deepface) (5.2.0)\n",
            "Requirement already satisfied: tqdm>=4.30.0 in /usr/local/lib/python3.10/dist-packages (from deepface) (4.66.5)\n",
            "Requirement already satisfied: Pillow>=5.2.0 in /usr/local/lib/python3.10/dist-packages (from deepface) (10.4.0)\n",
            "Requirement already satisfied: opencv-python>=4.5.5.64 in /usr/local/lib/python3.10/dist-packages (from deepface) (4.10.0.84)\n",
            "Requirement already satisfied: tensorflow>=1.9.0 in /usr/local/lib/python3.10/dist-packages (from deepface) (2.17.0)\n",
            "Requirement already satisfied: keras>=2.2.0 in /usr/local/lib/python3.10/dist-packages (from deepface) (3.4.1)\n",
            "Requirement already satisfied: Flask>=1.1.2 in /usr/local/lib/python3.10/dist-packages (from deepface) (2.2.5)\n",
            "Requirement already satisfied: flask-cors>=4.0.1 in /usr/local/lib/python3.10/dist-packages (from deepface) (5.0.0)\n",
            "Requirement already satisfied: mtcnn>=0.1.0 in /usr/local/lib/python3.10/dist-packages (from deepface) (0.1.1)\n",
            "Requirement already satisfied: retina-face>=0.0.1 in /usr/local/lib/python3.10/dist-packages (from deepface) (0.0.17)\n",
            "Requirement already satisfied: fire>=0.4.0 in /usr/local/lib/python3.10/dist-packages (from deepface) (0.7.0)\n",
            "Requirement already satisfied: gunicorn>=20.1.0 in /usr/local/lib/python3.10/dist-packages (from deepface) (23.0.0)\n",
            "Requirement already satisfied: termcolor in /usr/local/lib/python3.10/dist-packages (from fire>=0.4.0->deepface) (2.4.0)\n",
            "Requirement already satisfied: Werkzeug>=2.2.2 in /usr/local/lib/python3.10/dist-packages (from Flask>=1.1.2->deepface) (3.0.4)\n",
            "Requirement already satisfied: Jinja2>=3.0 in /usr/local/lib/python3.10/dist-packages (from Flask>=1.1.2->deepface) (3.1.4)\n",
            "Requirement already satisfied: itsdangerous>=2.0 in /usr/local/lib/python3.10/dist-packages (from Flask>=1.1.2->deepface) (2.2.0)\n",
            "Requirement already satisfied: click>=8.0 in /usr/local/lib/python3.10/dist-packages (from Flask>=1.1.2->deepface) (8.1.7)\n",
            "Requirement already satisfied: beautifulsoup4 in /usr/local/lib/python3.10/dist-packages (from gdown>=3.10.1->deepface) (4.12.3)\n",
            "Requirement already satisfied: filelock in /usr/local/lib/python3.10/dist-packages (from gdown>=3.10.1->deepface) (3.16.1)\n",
            "Requirement already satisfied: packaging in /usr/local/lib/python3.10/dist-packages (from gunicorn>=20.1.0->deepface) (24.1)\n",
            "Requirement already satisfied: absl-py in /usr/local/lib/python3.10/dist-packages (from keras>=2.2.0->deepface) (1.4.0)\n",
            "Requirement already satisfied: rich in /usr/local/lib/python3.10/dist-packages (from keras>=2.2.0->deepface) (13.8.1)\n",
            "Requirement already satisfied: namex in /usr/local/lib/python3.10/dist-packages (from keras>=2.2.0->deepface) (0.0.8)\n",
            "Requirement already satisfied: h5py in /usr/local/lib/python3.10/dist-packages (from keras>=2.2.0->deepface) (3.11.0)\n",
            "Requirement already satisfied: optree in /usr/local/lib/python3.10/dist-packages (from keras>=2.2.0->deepface) (0.12.1)\n",
            "Requirement already satisfied: ml-dtypes in /usr/local/lib/python3.10/dist-packages (from keras>=2.2.0->deepface) (0.4.1)\n",
            "Requirement already satisfied: python-dateutil>=2.8.2 in /usr/local/lib/python3.10/dist-packages (from pandas>=0.23.4->deepface) (2.8.2)\n",
            "Requirement already satisfied: pytz>=2020.1 in /usr/local/lib/python3.10/dist-packages (from pandas>=0.23.4->deepface) (2024.2)\n",
            "Requirement already satisfied: tzdata>=2022.7 in /usr/local/lib/python3.10/dist-packages (from pandas>=0.23.4->deepface) (2024.2)\n",
            "Requirement already satisfied: charset-normalizer<4,>=2 in /usr/local/lib/python3.10/dist-packages (from requests>=2.27.1->deepface) (3.3.2)\n",
            "Requirement already satisfied: idna<4,>=2.5 in /usr/local/lib/python3.10/dist-packages (from requests>=2.27.1->deepface) (3.10)\n",
            "Requirement already satisfied: urllib3<3,>=1.21.1 in /usr/local/lib/python3.10/dist-packages (from requests>=2.27.1->deepface) (2.2.3)\n",
            "Requirement already satisfied: certifi>=2017.4.17 in /usr/local/lib/python3.10/dist-packages (from requests>=2.27.1->deepface) (2024.8.30)\n",
            "Requirement already satisfied: astunparse>=1.6.0 in /usr/local/lib/python3.10/dist-packages (from tensorflow>=1.9.0->deepface) (1.6.3)\n",
            "Requirement already satisfied: flatbuffers>=24.3.25 in /usr/local/lib/python3.10/dist-packages (from tensorflow>=1.9.0->deepface) (24.3.25)\n",
            "Requirement already satisfied: gast!=0.5.0,!=0.5.1,!=0.5.2,>=0.2.1 in /usr/local/lib/python3.10/dist-packages (from tensorflow>=1.9.0->deepface) (0.6.0)\n",
            "Requirement already satisfied: google-pasta>=0.1.1 in /usr/local/lib/python3.10/dist-packages (from tensorflow>=1.9.0->deepface) (0.2.0)\n",
            "Requirement already satisfied: libclang>=13.0.0 in /usr/local/lib/python3.10/dist-packages (from tensorflow>=1.9.0->deepface) (18.1.1)\n",
            "Requirement already satisfied: opt-einsum>=2.3.2 in /usr/local/lib/python3.10/dist-packages (from tensorflow>=1.9.0->deepface) (3.4.0)\n",
            "Requirement already satisfied: protobuf!=4.21.0,!=4.21.1,!=4.21.2,!=4.21.3,!=4.21.4,!=4.21.5,<5.0.0dev,>=3.20.3 in /usr/local/lib/python3.10/dist-packages (from tensorflow>=1.9.0->deepface) (3.20.3)\n",
            "Requirement already satisfied: setuptools in /usr/local/lib/python3.10/dist-packages (from tensorflow>=1.9.0->deepface) (71.0.4)\n",
            "Requirement already satisfied: six>=1.12.0 in /usr/local/lib/python3.10/dist-packages (from tensorflow>=1.9.0->deepface) (1.16.0)\n",
            "Requirement already satisfied: typing-extensions>=3.6.6 in /usr/local/lib/python3.10/dist-packages (from tensorflow>=1.9.0->deepface) (4.12.2)\n",
            "Requirement already satisfied: wrapt>=1.11.0 in /usr/local/lib/python3.10/dist-packages (from tensorflow>=1.9.0->deepface) (1.16.0)\n",
            "Requirement already satisfied: grpcio<2.0,>=1.24.3 in /usr/local/lib/python3.10/dist-packages (from tensorflow>=1.9.0->deepface) (1.64.1)\n",
            "Requirement already satisfied: tensorboard<2.18,>=2.17 in /usr/local/lib/python3.10/dist-packages (from tensorflow>=1.9.0->deepface) (2.17.0)\n",
            "Requirement already satisfied: tensorflow-io-gcs-filesystem>=0.23.1 in /usr/local/lib/python3.10/dist-packages (from tensorflow>=1.9.0->deepface) (0.37.1)\n",
            "Requirement already satisfied: wheel<1.0,>=0.23.0 in /usr/local/lib/python3.10/dist-packages (from astunparse>=1.6.0->tensorflow>=1.9.0->deepface) (0.44.0)\n",
            "Requirement already satisfied: MarkupSafe>=2.0 in /usr/local/lib/python3.10/dist-packages (from Jinja2>=3.0->Flask>=1.1.2->deepface) (2.1.5)\n",
            "Requirement already satisfied: markdown>=2.6.8 in /usr/local/lib/python3.10/dist-packages (from tensorboard<2.18,>=2.17->tensorflow>=1.9.0->deepface) (3.7)\n",
            "Requirement already satisfied: tensorboard-data-server<0.8.0,>=0.7.0 in /usr/local/lib/python3.10/dist-packages (from tensorboard<2.18,>=2.17->tensorflow>=1.9.0->deepface) (0.7.2)\n",
            "Requirement already satisfied: soupsieve>1.2 in /usr/local/lib/python3.10/dist-packages (from beautifulsoup4->gdown>=3.10.1->deepface) (2.6)\n",
            "Requirement already satisfied: PySocks!=1.5.7,>=1.5.6 in /usr/local/lib/python3.10/dist-packages (from requests[socks]->gdown>=3.10.1->deepface) (1.7.1)\n",
            "Requirement already satisfied: markdown-it-py>=2.2.0 in /usr/local/lib/python3.10/dist-packages (from rich->keras>=2.2.0->deepface) (3.0.0)\n",
            "Requirement already satisfied: pygments<3.0.0,>=2.13.0 in /usr/local/lib/python3.10/dist-packages (from rich->keras>=2.2.0->deepface) (2.18.0)\n",
            "Requirement already satisfied: mdurl~=0.1 in /usr/local/lib/python3.10/dist-packages (from markdown-it-py>=2.2.0->rich->keras>=2.2.0->deepface) (0.1.2)\n"
          ]
        }
      ]
    },
    {
      "cell_type": "code",
      "source": [
        "# Create a sample user interactions log\n",
        "log_data = \"\"\"{'user_id': 1, 'task_id': 1, 'time_spent': 15, 'performance': 1, 'emotion': 'happy', 'timestamp': '2024-10-01 10:00:00'}\n",
        "{'user_id': 1, 'task_id': 2, 'time_spent': 20, 'performance': 1, 'emotion': 'neutral', 'timestamp': '2024-10-01 10:15:00'}\n",
        "{'user_id': 1, 'task_id': 3, 'time_spent': 10, 'performance': 0, 'emotion': 'sad', 'timestamp': '2024-10-01 10:30:00'}\n",
        "{'user_id': 2, 'task_id': 1, 'time_spent': 30, 'performance': 1, 'emotion': 'happy', 'timestamp': '2024-10-01 11:00:00'}\n",
        "{'user_id': 2, 'task_id': 2, 'time_spent': 25, 'performance': 0, 'emotion': 'frustrated', 'timestamp': '2024-10-01 11:20:00'}\n",
        "{'user_id': 2, 'task_id': 3, 'time_spent': 18, 'performance': 1, 'emotion': 'neutral', 'timestamp': '2024-10-01 11:40:00'}\n",
        "{'user_id': 3, 'task_id': 1, 'time_spent': 22, 'performance': 1, 'emotion': 'happy', 'timestamp': '2024-10-01 12:00:00'}\n",
        "{'user_id': 3, 'task_id': 2, 'time_spent': 12, 'performance': 1, 'emotion': 'excited', 'timestamp': '2024-10-01 12:15:00'}\n",
        "{'user_id': 3, 'task_id': 3, 'time_spent': 35, 'performance': 0, 'emotion': 'sad', 'timestamp': '2024-10-01 12:30:00'}\n",
        "{'user_id': 4, 'task_id': 1, 'time_spent': 40, 'performance': 1, 'emotion': 'happy', 'timestamp': '2024-10-01 13:00:00'}\n",
        "{'user_id': 4, 'task_id': 2, 'time_spent': 5, 'performance': 0, 'emotion': 'frustrated', 'timestamp': '2024-10-01 13:10:00'}\n",
        "{'user_id': 4, 'task_id': 3, 'time_spent': 30, 'performance': 1, 'emotion': 'neutral', 'timestamp': '2024-10-01 13:20:00'}\"\"\"\n",
        "\n",
        "# Write the log data to a file\n",
        "with open('user_interactions.log', 'w') as f:\n",
        "    f.write(log_data)\n"
      ],
      "metadata": {
        "id": "3IdJ5h1JmwL7"
      },
      "execution_count": 4,
      "outputs": []
    },
    {
      "cell_type": "code",
      "source": [
        "# Load the log data\n",
        "import ast\n",
        "\n",
        "log_entries = []\n",
        "with open('user_interactions.log', 'r') as f:\n",
        "    for line in f:\n",
        "        log_entries.append(ast.literal_eval(line.strip()))  # Convert string representation to a dictionary\n",
        "\n",
        "# Create a DataFrame from the log entries\n",
        "logs_df = pd.DataFrame(log_entries)\n",
        "print(logs_df.head())\n"
      ],
      "metadata": {
        "colab": {
          "base_uri": "https://localhost:8080/"
        },
        "id": "Ua4PQNdnmxKf",
        "outputId": "f9c6a268-0a95-43f8-eb35-41b2435e0fb1"
      },
      "execution_count": 5,
      "outputs": [
        {
          "output_type": "stream",
          "name": "stdout",
          "text": [
            "   user_id  task_id  time_spent  performance     emotion            timestamp\n",
            "0        1        1          15            1       happy  2024-10-01 10:00:00\n",
            "1        1        2          20            1     neutral  2024-10-01 10:15:00\n",
            "2        1        3          10            0         sad  2024-10-01 10:30:00\n",
            "3        2        1          30            1       happy  2024-10-01 11:00:00\n",
            "4        2        2          25            0  frustrated  2024-10-01 11:20:00\n"
          ]
        }
      ]
    },
    {
      "cell_type": "code",
      "execution_count": 6,
      "metadata": {
        "colab": {
          "base_uri": "https://localhost:8080/"
        },
        "id": "rgT0T8ValVlQ",
        "outputId": "c822ac00-5300-438b-9d0a-3a5f97fc8e0a"
      },
      "outputs": [
        {
          "output_type": "stream",
          "name": "stdout",
          "text": [
            "   user_id  task_id  time_spent  performance     emotion            timestamp\n",
            "0        1        1          15            1       happy  2024-10-01 10:00:00\n",
            "1        1        2          20            1     neutral  2024-10-01 10:15:00\n",
            "2        1        3          10            0         sad  2024-10-01 10:30:00\n",
            "3        2        1          30            1       happy  2024-10-01 11:00:00\n",
            "4        2        2          25            0  frustrated  2024-10-01 11:20:00\n",
            "Model Accuracy: 0.67\n"
          ]
        }
      ],
      "source": [
        "# Import necessary libraries\n",
        "import pandas as pd\n",
        "import numpy as np\n",
        "import cv2\n",
        "import logging\n",
        "from sklearn.ensemble import RandomForestClassifier\n",
        "from sklearn.model_selection import train_test_split\n",
        "from deepface import DeepFace\n",
        "import time\n",
        "\n",
        "# Set up logging for user interactions\n",
        "logging.basicConfig(filename='user_interactions.log', level=logging.INFO)\n",
        "\n",
        "# Function to simulate user interaction logging\n",
        "def log_interaction(user_id, task_id, time_spent, performance, emotion):\n",
        "    log_data = {\n",
        "        'user_id': user_id,\n",
        "        'task_id': task_id,\n",
        "        'time_spent': time_spent,\n",
        "        'performance': performance,\n",
        "        'emotion': emotion,\n",
        "        'timestamp': pd.Timestamp.now()\n",
        "    }\n",
        "    logging.info(log_data)\n",
        "\n",
        "# Simulated user interaction function\n",
        "def simulate_user_interaction():\n",
        "    user_id = np.random.randint(1, 5)  # Simulate user ID\n",
        "    task_id = np.random.randint(1, 10)  # Simulate task ID\n",
        "    time_spent = np.random.randint(5, 60)  # Time spent in seconds\n",
        "    performance = np.random.randint(0, 2)  # Simulated performance (0 or 1)\n",
        "\n",
        "    # Simulate emotion detection\n",
        "    frame = np.zeros((100, 100, 3), dtype=np.uint8)  # Dummy frame for testing\n",
        "    emotion = detect_emotion(frame)  # Placeholder for emotion detection\n",
        "\n",
        "    # Log the interaction\n",
        "    log_interaction(user_id, task_id, time_spent, performance, emotion)\n",
        "\n",
        "# Function to detect emotion from a frame (using DeepFace)\n",
        "def detect_emotion(frame):\n",
        "    try:\n",
        "        result = DeepFace.analyze(frame, actions=['emotion'], enforce_detection=False)\n",
        "        return result[0]['dominant_emotion']  # Get the dominant emotion\n",
        "    except Exception as e:\n",
        "        return 'unknown'  # Return unknown if detection fails\n",
        "\n",
        "# Simulate user interactions\n",
        "for _ in range(10):  # Simulate 10 interactions\n",
        "    simulate_user_interaction()\n",
        "    time.sleep(1)  # Wait for a second between interactions\n",
        "\n",
        "# Load interaction data\n",
        "# Note: In a real scenario, this data would be collected over time and stored in a database.\n",
        "data = pd.read_csv('user_interactions.log')\n",
        "\n",
        "# Data Preprocessing\n",
        "# Example: Convert logging info to DataFrame\n",
        "logs_df = pd.DataFrame([eval(line) for line in open('user_interactions.log').readlines()])\n",
        "print(logs_df.head())\n",
        "\n",
        "# Feature Engineering\n",
        "# Create feature and target variables\n",
        "X = logs_df[['time_spent', 'user_id']]  # Features (you can add more features)\n",
        "y = logs_df['performance']  # Target variable (performance)\n",
        "\n",
        "# Split the dataset\n",
        "X_train, X_test, y_train, y_test = train_test_split(X, y, test_size=0.2, random_state=42)\n",
        "\n",
        "# Train the model\n",
        "model = RandomForestClassifier()\n",
        "model.fit(X_train, y_train)\n",
        "\n",
        "# Evaluate the model\n",
        "accuracy = model.score(X_test, y_test)\n",
        "print(f'Model Accuracy: {accuracy:.2f}')\n",
        "\n",
        "# Simulate real-time emotion detection (you can run this cell separately)\n",
        "cap = cv2.VideoCapture(0)  # Use webcam\n",
        "\n",
        "while True:\n",
        "    ret, frame = cap.read()\n",
        "    if not ret:\n",
        "        break\n",
        "\n",
        "    # Detect emotion from the frame\n",
        "    emotion = detect_emotion(frame)\n",
        "    cv2.putText(frame, f'Emotion: {emotion}', (10, 30), cv2.FONT_HERSHEY_SIMPLEX, 1, (255, 0, 0), 2)\n",
        "\n",
        "    # Show the video frame with emotion\n",
        "    cv2.imshow('Webcam Feed', frame)\n",
        "\n",
        "    # Exit the loop if 'q' is pressed\n",
        "    if cv2.waitKey(1) & 0xFF == ord('q'):\n",
        "        break\n",
        "\n",
        "cap.release()\n",
        "cv2.destroyAllWindows()\n"
      ]
    }
  ]
}